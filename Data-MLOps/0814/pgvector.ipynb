{
 "cells": [
  {
   "cell_type": "code",
   "execution_count": null,
   "id": "fdcfd9e8",
   "metadata": {},
   "outputs": [
    {
     "name": "stderr",
     "output_type": "stream",
     "text": [
      "/opt/anaconda3/envs/skala/lib/python3.11/site-packages/tqdm/auto.py:21: TqdmWarning: IProgress not found. Please update jupyter and ipywidgets. See https://ipywidgets.readthedocs.io/en/stable/user_install.html\n",
      "  from .autonotebook import tqdm as notebook_tqdm\n"
     ]
    },
    {
     "name": "stdout",
     "output_type": "stream",
     "text": [
      "torch: 2.2.2\n",
      "transformers: 4.25.1\n",
      "sentence-transformers: 2.2.2\n",
      "scikit-learn: 1.3.2\n",
      "numpy: 1.24.4\n",
      "scipy: 1.10.1\n"
     ]
    }
   ],
   "source": [
    "import torch\n",
    "import transformers\n",
    "import sentence_transformers\n",
    "import sklearn\n",
    "import numpy\n",
    "import scipy\n",
    "\n",
    "print(f\"torch: {torch.__version__}\")\n",
    "print(f\"transformers: {transformers.__version__}\")\n",
    "print(f\"sentence-transformers: {sentence_transformers.__version__}\")\n",
    "print(f\"scikit-learn: {sklearn.__version__}\")\n",
    "print(f\"numpy: {numpy.__version__}\")\n",
    "print(f\"scipy: {scipy.__version__}\")\n",
    "\n",
    "from dotenv import load_dotenv\n",
    "import os\n",
    "\n",
    "load_dotenv()  # 같은 폴더에 있는 .env 로드"
   ]
  },
  {
   "cell_type": "code",
   "execution_count": 2,
   "id": "1e865e49",
   "metadata": {},
   "outputs": [],
   "source": [
    "from sentence_transformers import SentenceTransformer\n",
    "import numpy as np\n",
    "\n",
    "# 1단계: 문장 임베딩\n",
    "model = SentenceTransformer('paraphrase-MiniLM-L6-v2')\n",
    "\n",
    "reviews = [\n",
    "    \"배송이 빠르고 제품도 좋아요.\",\n",
    "    \"품질이 기대 이상입니다!\",\n",
    "    \"생각보다 배송이 오래 걸렸어요.\",\n",
    "    \"배송은 느렸지만 포장은 안전했어요.\",\n",
    "    \"아주 만족스러운 제품입니다.\"\n",
    "]\n",
    "\n",
    "embeddings = model.encode(reviews)"
   ]
  },
  {
   "cell_type": "code",
   "execution_count": null,
   "id": "81afcea8",
   "metadata": {},
   "outputs": [],
   "source": [
    "import psycopg2\n",
    "from pgvector.psycopg2 import register_vector\n",
    "\n",
    "# 2단계: PostgreSQL 테이블 생성\n",
    "conn = psycopg2.connect(\n",
    "    host=\"localhost\",          \n",
    "    port=5432,                \n",
    "    database=\"postgres\",    \n",
    "    user=\"postgres\",       \n",
    "    password=os.getenv(\"PG_PASSWORD\"),  # 환경변수에서 불러옴 \n",
    ")\n",
    "\n",
    "register_vector(conn)  # 벡터 변환 활성화\n",
    "cur = conn.cursor()\n",
    "\n",
    "# DB 초기화 (기존 테이블 삭제 후 재생성)\n",
    "dim = model.get_sentence_embedding_dimension()\n",
    "cur.execute(\"CREATE EXTENSION IF NOT EXISTS vector;\")\n",
    "cur.execute(\"DROP TABLE IF EXISTS review_vectors;\")  # 테이블 완전 삭제\n",
    "cur.execute(f\"\"\"\n",
    "    CREATE TABLE review_vectors (\n",
    "        id SERIAL PRIMARY KEY,\n",
    "        review TEXT,\n",
    "        embedding vector({dim})\n",
    "    );\n",
    "\"\"\")\n",
    "conn.commit()"
   ]
  },
  {
   "cell_type": "code",
   "execution_count": 5,
   "id": "0ff30b35",
   "metadata": {},
   "outputs": [],
   "source": [
    "# 3단계: 벡터 저장\n",
    "for review, emb in zip(reviews, embeddings):\n",
    "    cur.execute(\n",
    "        \"INSERT INTO review_vectors (review, embedding) VALUES (%s, %s)\",\n",
    "        (review, np.array(emb, dtype=np.float32)) \n",
    "    )\n",
    "conn.commit()"
   ]
  },
  {
   "cell_type": "code",
   "execution_count": null,
   "id": "1d4b88b9",
   "metadata": {},
   "outputs": [
    {
     "name": "stdout",
     "output_type": "stream",
     "text": [
      "\n",
      "유사도 검색 결과:\n",
      "코사인거리: 0.0783 | 리뷰: 배송이 빠르고 제품도 좋아요.\n",
      "코사인거리: 0.0990 | 리뷰: 배송은 느렸지만 포장은 안전했어요.\n",
      "코사인거리: 0.1253 | 리뷰: 생각보다 배송이 오래 걸렸어요.\n"
     ]
    }
   ],
   "source": [
    "# 4단계: 유사도 검색\n",
    "query = \"배송이 느렸어요\"\n",
    "query_vec = model.encode([query])[0].astype(np.float32)\n",
    "\n",
    "print(\"\\n유사도 검색 결과:\")\n",
    "cur.execute(\n",
    "    \"\"\"\n",
    "    SELECT review, embedding <=> %s AS cosine_distance\n",
    "    FROM review_vectors\n",
    "    ORDER BY embedding <=> %s\n",
    "    LIMIT 3;\n",
    "    \"\"\",\n",
    "    (query_vec, query_vec)\n",
    ")\n",
    "for review, dist in cur.fetchall():\n",
    "    print(f\"코사인거리: {dist:.4f} | 리뷰: {review}\")"
   ]
  },
  {
   "cell_type": "code",
   "execution_count": 7,
   "id": "c2c1d342",
   "metadata": {},
   "outputs": [],
   "source": [
    "# 5. 마무리\n",
    "cur.close()\n",
    "conn.close()"
   ]
  }
 ],
 "metadata": {
  "kernelspec": {
   "display_name": "skala",
   "language": "python",
   "name": "python3"
  },
  "language_info": {
   "codemirror_mode": {
    "name": "ipython",
    "version": 3
   },
   "file_extension": ".py",
   "mimetype": "text/x-python",
   "name": "python",
   "nbconvert_exporter": "python",
   "pygments_lexer": "ipython3",
   "version": "3.11.13"
  }
 },
 "nbformat": 4,
 "nbformat_minor": 5
}
