{
 "cells": [
  {
   "cell_type": "code",
   "execution_count": 3,
   "id": "4f68d414",
   "metadata": {},
   "outputs": [
    {
     "name": "stdout",
     "output_type": "stream",
     "text": [
      "slow_function took 1.5020 seconds\n",
      "함수 결과: 완료!\n"
     ]
    }
   ],
   "source": [
    "import time\n",
    "\n",
    "# TODO: 데코레이터 함수 구현\n",
    "def measure_time(func):\n",
    "    def wrapper(*args, **kwargs):\n",
    "        start = time.perf_counter() # 시작 시간 기록\n",
    "        result = func(*args, **kwargs) # 원래 함수 호출, 실행 결과를 result에 저장\n",
    "        end = time.perf_counter() # 종료 시간 기록\n",
    "        elapsed = end - start # 걸린 시간 계산\n",
    "        print(f\"{func.__name__} took {elapsed:.4f} seconds\")  # 함수 이름과 걸린 시간을 출력\n",
    "        return result # 원래 함수의 반환값을 그대로 반환\n",
    "    return wrapper\n",
    "\n",
    "# 테스트용 함수\n",
    "@measure_time\n",
    "def slow_function(): # slow_function 위에 @measure_time을 붙이면 slow_function 호출 시 실제로는 wrapper가 호출\n",
    "    time.sleep(1.5)  # time.sleep(1.5)로 1.5초 지연을 준 뒤\n",
    "    return \"완료!\" # \"완료!\" 문자열을 반환\n",
    "\n",
    "# 실행\n",
    "result = slow_function() # 실행 시: 실행 시간 로그 출력\n",
    "print(\"함수 결과:\", result)\n"
   ]
  },
  {
   "cell_type": "code",
   "execution_count": null,
   "id": "156a0e1c",
   "metadata": {},
   "outputs": [],
   "source": []
  }
 ],
 "metadata": {
  "kernelspec": {
   "display_name": "skala",
   "language": "python",
   "name": "python3"
  },
  "language_info": {
   "codemirror_mode": {
    "name": "ipython",
    "version": 3
   },
   "file_extension": ".py",
   "mimetype": "text/x-python",
   "name": "python",
   "nbconvert_exporter": "python",
   "pygments_lexer": "ipython3",
   "version": "3.11.13"
  }
 },
 "nbformat": 4,
 "nbformat_minor": 5
}
