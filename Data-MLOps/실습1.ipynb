{
 "cells": [
  {
   "cell_type": "code",
   "execution_count": null,
   "id": "4b87bf89",
   "metadata": {},
   "outputs": [
    {
     "name": "stdout",
     "output_type": "stream",
     "text": [
      "문제 1: ['Alice', 'Charlie']\n",
      "문제 2: [('Alice', 'Engineering'), ('Charlie', 'Engineering'), ('David', 'HR')]\n",
      "문제 3:\n",
      "Charlie 95000\n",
      "Alice 85000\n",
      "Eve 78000\n"
     ]
    }
   ],
   "source": [
    "# 직원 리스트 데이터\n",
    "employees = [\n",
    "    {\"name\": \"Alice\", \"department\": \"Engineering\", \"age\": 30, \"salary\": 85000},\n",
    "    {\"name\": \"Bob\", \"department\": \"Marketing\", \"age\": 25, \"salary\": 60000},\n",
    "    {\"name\": \"Charlie\", \"department\": \"Engineering\", \"age\": 35, \"salary\": 95000},\n",
    "    {\"name\": \"David\", \"department\": \"HR\", \"age\": 45, \"salary\": 70000},\n",
    "    {\"name\": \"Eve\", \"department\": \"Engineering\", \"age\": 28, \"salary\": 78000}\n",
    "]\n",
    "\n",
    "# 문제 1: 부서가 \"Engineering\"이고 salary >= 80000인 직원들의 이름만 리스트로 출력\n",
    "eng_high_salary = [emp[\"name\"] for emp in employees if emp[\"department\"] == \"Engineering\" and emp[\"salary\"] >= 80000]\n",
    "print(\"문제 1:\", eng_high_salary)\n",
    "\n",
    "# 문제 2: 30세 이상 직원의 이름과 부서를 튜플(name, department) 형태로 리스트 출력\n",
    "over_30 = [(emp[\"name\"], emp[\"department\"]) for emp in employees if emp[\"age\"] >= 30]\n",
    "print(\"문제 2:\", over_30)\n",
    "\n",
    "# 문제 3: 급여 기준으로 직원 리스트를 salary 내림차순 정렬 후, 상위 3명의 이름과 급여 출력\n",
    "sorted_by_salary = sorted(employees, key=lambda x: x[\"salary\"], reverse=True)\n",
    "print(\"문제 3:\")\n",
    "for emp in sorted_by_salary[:3]:\n",
    "    print(emp[\"name\"], emp[\"salary\"])"
   ]
  },
  {
   "cell_type": "code",
   "execution_count": null,
   "id": "6e32f0fb",
   "metadata": {},
   "outputs": [
    {
     "name": "stdout",
     "output_type": "stream",
     "text": [
      "문제 4:\n",
      "Engineering 86000.0\n",
      "Marketing 60000.0\n",
      "HR 70000.0\n"
     ]
    }
   ],
   "source": [
    "# 문제 4: 모든 부서별 평균 급여 출력\n",
    "from collections import defaultdict\n",
    "\n",
    "dept_salaries = defaultdict(list) # 부서별 급여 딕셔너리\n",
    "for emp in employees:\n",
    "    dept_salaries[emp[\"department\"]].append(emp[\"salary\"]) # 부서를 key로 하고 급여를 value(리스트)에 추가\n",
    "\n",
    "print(\"문제 4:\")\n",
    "for dept, salaries in dept_salaries.items():\n",
    "    avg_salary = sum(salaries) / len(salaries) # 부서별 평균 급여 계산\n",
    "    print(dept, avg_salary)"
   ]
  },
  {
   "cell_type": "code",
   "execution_count": null,
   "id": "721ae72c",
   "metadata": {},
   "outputs": [],
   "source": []
  }
 ],
 "metadata": {
  "kernelspec": {
   "display_name": "skala",
   "language": "python",
   "name": "python3"
  },
  "language_info": {
   "codemirror_mode": {
    "name": "ipython",
    "version": 3
   },
   "file_extension": ".py",
   "mimetype": "text/x-python",
   "name": "python",
   "nbconvert_exporter": "python",
   "pygments_lexer": "ipython3",
   "version": "3.11.13"
  }
 },
 "nbformat": 4,
 "nbformat_minor": 5
}
