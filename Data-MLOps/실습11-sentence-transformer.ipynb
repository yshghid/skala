{
 "cells": [
  {
   "cell_type": "markdown",
   "id": "9042caff",
   "metadata": {},
   "source": [
    "##### temp"
   ]
  },
  {
   "cell_type": "code",
   "execution_count": 12,
   "id": "291df2e9",
   "metadata": {},
   "outputs": [
    {
     "name": "stdout",
     "output_type": "stream",
     "text": [
      "torch: 2.2.2\n",
      "transformers: 4.54.1\n",
      "sentence-transformers: 5.0.0\n",
      "scikit-learn: 1.7.1\n",
      "numpy: 2.3.2\n",
      "scipy: 1.16.1\n"
     ]
    }
   ],
   "source": [
    "import torch\n",
    "import transformers\n",
    "import sentence_transformers\n",
    "import sklearn\n",
    "import numpy\n",
    "import scipy\n",
    "\n",
    "print(f\"torch: {torch.__version__}\")\n",
    "print(f\"transformers: {transformers.__version__}\")\n",
    "print(f\"sentence-transformers: {sentence_transformers.__version__}\")\n",
    "print(f\"scikit-learn: {sklearn.__version__}\")\n",
    "print(f\"numpy: {numpy.__version__}\")\n",
    "print(f\"scipy: {scipy.__version__}\")"
   ]
  },
  {
   "cell_type": "markdown",
   "id": "b0393cab",
   "metadata": {},
   "source": [
    "추천조합\n",
    "\n",
    "pip install torch==2.0.1\n",
    "#pip install transformers==4.30.2\n",
    "pip install sentence-transformers==2.2.2\n",
    "pip install scikit-learn==1.3.2\n",
    "pip install numpy==1.24.4\n",
    "pip install scipy==1.10.1\n",
    "\n",
    "pip install transformers==4.25.1\n",
    "pip install huggingface-hub==0.10.1\n",
    "\n",
    "이어서 이대로 다시 깔기"
   ]
  },
  {
   "cell_type": "markdown",
   "id": "f7ca2131",
   "metadata": {},
   "source": [
    "##### temp end"
   ]
  },
  {
   "cell_type": "code",
   "execution_count": 7,
   "id": "fdcfd9e8",
   "metadata": {},
   "outputs": [
    {
     "name": "stdout",
     "output_type": "stream",
     "text": [
      "torch: 2.2.2\n",
      "transformers: 4.25.1\n",
      "sentence-transformers: 2.2.2\n",
      "scikit-learn: 1.3.2\n",
      "numpy: 1.24.4\n",
      "scipy: 1.10.1\n"
     ]
    }
   ],
   "source": [
    "import torch\n",
    "import transformers\n",
    "import sentence_transformers\n",
    "import sklearn\n",
    "import numpy\n",
    "import scipy\n",
    "\n",
    "print(f\"torch: {torch.__version__}\")\n",
    "print(f\"transformers: {transformers.__version__}\")\n",
    "print(f\"sentence-transformers: {sentence_transformers.__version__}\")\n",
    "print(f\"scikit-learn: {sklearn.__version__}\")\n",
    "print(f\"numpy: {numpy.__version__}\")\n",
    "print(f\"scipy: {scipy.__version__}\")"
   ]
  },
  {
   "cell_type": "code",
   "execution_count": 8,
   "id": "1e865e49",
   "metadata": {},
   "outputs": [],
   "source": [
    "from sentence_transformers import SentenceTransformer\n",
    "import numpy as np\n",
    "\n",
    "# 1단계: 문장 임베딩\n",
    "model = SentenceTransformer('paraphrase-MiniLM-L6-v2')\n",
    "\n",
    "reviews = [\n",
    "    \"배송이 빠르고 제품도 좋아요.\",\n",
    "    \"품질이 기대 이상입니다!\",\n",
    "    \"생각보다 배송이 오래 걸렸어요.\",\n",
    "    \"배송은 느렸지만 포장은 안전했어요.\",\n",
    "    \"아주 만족스러운 제품입니다.\"\n",
    "]\n",
    "\n",
    "embeddings = model.encode(reviews)"
   ]
  },
  {
   "cell_type": "code",
   "execution_count": 9,
   "id": "81afcea8",
   "metadata": {},
   "outputs": [],
   "source": [
    "import psycopg2\n",
    "\n",
    "# 2단계: PostgreSQL 테이블 생성\n",
    "conn = psycopg2.connect(\n",
    "    host=\"localhost\",          # 기본값 그대로 사용\n",
    "    port=5432,                 # PostgreSQL 기본 포트\n",
    "    database=\"postgres\",       # 또는 직접 만든 DB명 (예: reviewdb)\n",
    "    user=\"postgres\",           # PostgreSQL 기본 사용자\n",
    "    password=\"0000\"            # 당신이 설정한 비밀번호\n",
    ")\n",
    "\n",
    "cur = conn.cursor()\n",
    "\n",
    "cur.execute(\"CREATE EXTENSION IF NOT EXISTS vector;\")\n",
    "cur.execute(\"\"\"\n",
    "    CREATE TABLE IF NOT EXISTS review_vectors (\n",
    "        id SERIAL PRIMARY KEY,\n",
    "        review TEXT,\\\n",
    "        embedding VECTOR(384)\n",
    "    );\n",
    "\"\"\")\n",
    "conn.commit()"
   ]
  },
  {
   "cell_type": "code",
   "execution_count": 10,
   "id": "0ff30b35",
   "metadata": {},
   "outputs": [],
   "source": [
    "# 3단계: 벡터 저장\n",
    "\n",
    "for review, emb in zip(reviews, embeddings):\n",
    "    emb_list = emb.tolist()\n",
    "    cur.execute(\n",
    "        \"INSERT INTO review_vectors (review, embedding) VALUES (%s, %s)\",\n",
    "        (review, emb_list)\n",
    "    )\n",
    "\n",
    "conn.commit()"
   ]
  },
  {
   "cell_type": "code",
   "execution_count": 11,
   "id": "1d4b88b9",
   "metadata": {},
   "outputs": [
    {
     "name": "stdout",
     "output_type": "stream",
     "text": [
      "유사도: 0.0783 | 리뷰: 배송이 빠르고 제품도 좋아요.\n",
      "유사도: 0.0783 | 리뷰: 배송이 빠르고 제품도 좋아요.\n",
      "유사도: 0.0990 | 리뷰: 배송은 느렸지만 포장은 안전했어요.\n"
     ]
    }
   ],
   "source": [
    "# 4단계: 유사도 검색\n",
    "\n",
    "query = \"배송이 느렸어요\"\n",
    "query_vec = model.encode([query])[0].tolist()\n",
    "\n",
    "#cur.execute(\n",
    "#    \"\"\"\n",
    "#    SELECT review, embedding <=> %s AS distance\n",
    "#    FROM review_vectors\n",
    "#    ORDER BY embedding <=> %s\n",
    "#    LIMIT 3;\n",
    "#    \"\"\",\n",
    "#    (query_vec, query_vec)\n",
    "#)\n",
    "\n",
    "cur.execute(\n",
    "    \"\"\"\n",
    "    SELECT review, embedding <=> CAST(%s AS vector) AS distance\n",
    "    FROM review_vectors\n",
    "    ORDER BY embedding <=> CAST(%s AS vector)\n",
    "    LIMIT 3;\n",
    "    \"\"\",\n",
    "    (query_vec, query_vec)\n",
    ")\n",
    "\n",
    "results = cur.fetchall()\n",
    "for r in results:\n",
    "    print(f\"유사도: {r[1]:.4f} | 리뷰: {r[0]}\")"
   ]
  },
  {
   "cell_type": "code",
   "execution_count": 12,
   "id": "c2c1d342",
   "metadata": {},
   "outputs": [],
   "source": [
    "# 5. 마무리\n",
    "\n",
    "cur.close()\n",
    "conn.close()"
   ]
  },
  {
   "cell_type": "markdown",
   "id": "1ad4a7c2",
   "metadata": {},
   "source": [
    "🔁 참고: 유사도 계산 연산자\n",
    "\n",
    "<=> : pgvector에서 제공하는 L2 거리 (Euclidean) 또는 Cosine 유사도 기반 정렬을 자동 적용\n",
    "\n",
    "embedding <=> %s : 유사한 순서대로 오름차순 정렬됨 (작을수록 유사)\n"
   ]
  }
 ],
 "metadata": {
  "kernelspec": {
   "display_name": "skala",
   "language": "python",
   "name": "python3"
  },
  "language_info": {
   "codemirror_mode": {
    "name": "ipython",
    "version": 3
   },
   "file_extension": ".py",
   "mimetype": "text/x-python",
   "name": "python",
   "nbconvert_exporter": "python",
   "pygments_lexer": "ipython3",
   "version": "3.11.13"
  }
 },
 "nbformat": 4,
 "nbformat_minor": 5
}
