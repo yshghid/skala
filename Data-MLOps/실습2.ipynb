{
 "cells": [
  {
   "cell_type": "code",
   "execution_count": 1,
   "id": "e9489696",
   "metadata": {},
   "outputs": [
    {
     "name": "stdout",
     "output_type": "stream",
     "text": [
      "리스트 합: 499999500000\n",
      "리스트 메모리 사용량: 8000056\n",
      "제너레이터 합: 499999500000\n",
      "제너레이터 메모리 사용량: 200\n"
     ]
    }
   ],
   "source": [
    "import sys\n",
    "\n",
    "# 1. 일반 리스트 방식\n",
    "numbers = list(range(1_000_000))\n",
    "print(\"리스트 합:\", sum(numbers))\n",
    "print(\"리스트 메모리 사용량:\", sys.getsizeof(numbers))  # 리스트 전체를 메모리에 올림\n",
    "\n",
    "# 2. 제너레이터 방식\n",
    "def number_gen():\n",
    "    for i in range(1_000_000):\n",
    "        yield i\n",
    "\n",
    "gen = number_gen()\n",
    "print(\"제너레이터 합:\", sum(gen))\n",
    "print(\"제너레이터 메모리 사용량:\", sys.getsizeof(gen))  # 제너레이터 객체만 메모리 차지"
   ]
  },
  {
   "cell_type": "code",
   "execution_count": null,
   "id": "5bb3dc22",
   "metadata": {},
   "outputs": [],
   "source": [
    "import time\n",
    "import sys\n",
    "\n",
    "# 1. 짝수의 제곱을 생성하는 제너레이터\n",
    "def even_square_gen(n):\n",
    "    for i in range(n):\n",
    "        if i % 2 == 0:\n",
    "            yield i * i\n",
    "\n",
    "# 2. 실행 및 시간 측정\n",
    "start = time.time()\n",
    "result = sum(even_square_gen(1_000_000))\n",
    "end = time.time()\n",
    "\n",
    "print(\"짝수 제곱 총합:\", result)\n",
    "print(\"실행 시간:\", end - start)\n",
    "\n",
    "# 3. 메모리 사용량 측정\n",
    "gen_obj = even_square_gen(1_000_000)\n",
    "print(\"제너레이터 메모리 사용량:\", sys.getsizeof(gen_obj)) "
   ]
  },
  {
   "cell_type": "code",
   "execution_count": null,
   "id": "acee485c",
   "metadata": {},
   "outputs": [
    {
     "name": "stdout",
     "output_type": "stream",
     "text": [
      "리스트 합: 499,999,500,000\n",
      "리스트 메모리 사용량: 8000056 bytes\n",
      "\n",
      "제너레이터 합: 499,999,500,000\n",
      "제너레이터 메모리 사용량: 200 bytes\n",
      "\n",
      "메모리 사용량 비교: 리스트 8000056 bytes vs 제너레이터 200 bytes\n"
     ]
    }
   ],
   "source": [
    "import sys\n",
    "\n",
    "# 1) 리스트 방식\n",
    "numbers = list(range(1000000)) # 0부터 999,999 리스트 생성\n",
    "list_sum = sum(numbers) # 합계 구하기\n",
    "list_mem = sys.getsizeof(numbers) # 메모리 사용량 확인 (리스트 객체 크기)\n",
    "\n",
    "print(f\"리스트 합: {list_sum:,}\")\n",
    "print(f\"리스트 메모리 사용량: {list_mem} bytes\")\n",
    "print()\n",
    "\n",
    "# 2) 제너레이터 방식\n",
    "def number_gen(): # 제너레이터 함수 정의\n",
    "    for i in range(1_000_000):\n",
    "        yield i\n",
    "gen = number_gen() # 제너레이터 객체 생성\n",
    "gen_sum = sum(gen) # 합계 구하기\n",
    "gen_mem = sys.getsizeof(gen) # 메모리 사용량 확인 (제너레이터 객체 크기)\n",
    "\n",
    "print(f\"제너레이터 합: {gen_sum:,}\")\n",
    "print(f\"제너레이터 메모리 사용량: {gen_mem} bytes\")\n",
    "print()\n",
    "\n",
    "# 3) 결과 비교\n",
    "print(f\"메모리 사용량 비교: 리스트 {list_mem} bytes vs 제너레이터 {gen_mem} bytes\")"
   ]
  },
  {
   "cell_type": "code",
   "execution_count": 16,
   "id": "97fc104f",
   "metadata": {},
   "outputs": [
    {
     "name": "stdout",
     "output_type": "stream",
     "text": [
      "1) 리스트 방식\n",
      "합계: 166666166667000000\n",
      "메모리 사용량: 4167352 bytes\n",
      "실행 시간: 0.0649869441986084 초\n",
      "2) 제너레이터 방식\n",
      "합계: 166666166667000000\n",
      "메모리 사용량: 208 bytes\n",
      "실행 시간: 0.10016107559204102 초\n",
      "\n"
     ]
    }
   ],
   "source": [
    "import sys\n",
    "import time\n",
    "\n",
    "N = 1000000\n",
    "\n",
    "# 1) 리스트 방식\n",
    "start = time.time()\n",
    "even_squares_list = [i * i for i in range(N) if i % 2 == 0]  # 모든 짝수 제곱을 리스트로 생성\n",
    "even_sum_list = sum(even_squares_list) # 리스트의 모든 원소를 합산\n",
    "end = time.time()\n",
    "\n",
    "print(\"1) 리스트 방식\")\n",
    "print(\"합계:\", even_sum_list) # 합계 출력\n",
    "print(\"메모리 사용량:\", sys.getsizeof(even_squares_list), \"bytes\")\n",
    "print(\"실행 시간:\", end - start, \"초\")\n",
    "\n",
    "# 2) 제너레이터 방식\n",
    "def even_square_gen(n): # 짝수 제곱 제너레이터\n",
    "    for i in range(n): # 0부터 n-1까지 순회\n",
    "        if i % 2 == 0: # 짝수인지 확인\n",
    "            yield i * i # 짝수의 제곱을 하나씩 생성(yield)하여 반환\n",
    "            \n",
    "start = time.time()\n",
    "even_sum_gen = sum(even_square_gen(N)) # 제너레이터를 이용해 짝수 제곱을 하나씩 생성하며 합산\n",
    "end = time.time()\n",
    "\n",
    "print(\"2) 제너레이터 방식\")\n",
    "print(\"합계:\", even_sum_gen) # 합계 출력\n",
    "print(\"메모리 사용량:\", sys.getsizeof(even_square_gen(N)), \"bytes\")\n",
    "print(\"실행 시간:\", end - start, \"초\")\n",
    "print()"
   ]
  },
  {
   "cell_type": "code",
   "execution_count": 18,
   "id": "a74e2ffd",
   "metadata": {},
   "outputs": [
    {
     "name": "stdout",
     "output_type": "stream",
     "text": [
      "N=100000000\n",
      "1) 리스트 방식\n",
      "합계: 166666661666666700000000\n",
      "메모리 사용량: 411943896 bytes\n",
      "실행 시간: 8.67517375946045 초\n",
      "2) 제너레이터 방식\n",
      "합계: 166666661666666700000000\n",
      "메모리 사용량: 208 bytes\n",
      "실행 시간: 6.631064176559448 초\n",
      "\n"
     ]
    }
   ],
   "source": [
    "import sys\n",
    "import time\n",
    "\n",
    "N = 100000000\n",
    "print(f\"N={N}\")\n",
    "\n",
    "# 1) 리스트 방식\n",
    "start = time.time()\n",
    "even_squares_list = [i * i for i in range(N) if i % 2 == 0]  # 모든 짝수 제곱을 리스트로 생성\n",
    "even_sum_list = sum(even_squares_list) # 리스트의 모든 원소를 합산\n",
    "end = time.time()\n",
    "\n",
    "print(\"1) 리스트 방식\")\n",
    "print(\"합계:\", even_sum_list) # 합계 출력\n",
    "print(\"메모리 사용량:\", sys.getsizeof(even_squares_list), \"bytes\")\n",
    "print(\"실행 시간:\", end - start, \"초\")\n",
    "\n",
    "# 2) 제너레이터 방식\n",
    "def even_square_gen(n): # 짝수 제곱 제너레이터\n",
    "    for i in range(n): # 0부터 n-1까지 순회\n",
    "        if i % 2 == 0: # 짝수인지 확인\n",
    "            yield i * i # 짝수의 제곱을 하나씩 생성(yield)하여 반환\n",
    "            \n",
    "start = time.time()\n",
    "even_sum_gen = sum(even_square_gen(N)) # 제너레이터를 이용해 짝수 제곱을 하나씩 생성하며 합산\n",
    "end = time.time()\n",
    "\n",
    "print(\"2) 제너레이터 방식\")\n",
    "print(\"합계:\", even_sum_gen) # 합계 출력\n",
    "print(\"메모리 사용량:\", sys.getsizeof(even_square_gen(N)), \"bytes\")\n",
    "print(\"실행 시간:\", end - start, \"초\")\n",
    "print()"
   ]
  },
  {
   "cell_type": "code",
   "execution_count": null,
   "id": "640eecc1",
   "metadata": {},
   "outputs": [],
   "source": []
  }
 ],
 "metadata": {
  "kernelspec": {
   "display_name": "skala",
   "language": "python",
   "name": "python3"
  },
  "language_info": {
   "codemirror_mode": {
    "name": "ipython",
    "version": 3
   },
   "file_extension": ".py",
   "mimetype": "text/x-python",
   "name": "python",
   "nbconvert_exporter": "python",
   "pygments_lexer": "ipython3",
   "version": "3.11.13"
  }
 },
 "nbformat": 4,
 "nbformat_minor": 5
}
