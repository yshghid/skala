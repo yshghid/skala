{
 "cells": [
  {
   "cell_type": "code",
   "execution_count": 1,
   "id": "e9489696",
   "metadata": {},
   "outputs": [
    {
     "name": "stdout",
     "output_type": "stream",
     "text": [
      "리스트 합: 499999500000\n",
      "리스트 메모리 사용량: 8000056\n",
      "제너레이터 합: 499999500000\n",
      "제너레이터 메모리 사용량: 200\n"
     ]
    }
   ],
   "source": [
    "import sys\n",
    "\n",
    "# 1. 일반 리스트 방식\n",
    "numbers = list(range(1_000_000))\n",
    "print(\"리스트 합:\", sum(numbers))\n",
    "print(\"리스트 메모리 사용량:\", sys.getsizeof(numbers))  # 리스트 전체를 메모리에 올림\n",
    "\n",
    "# 2. 제너레이터 방식\n",
    "def number_gen():\n",
    "    for i in range(1_000_000):\n",
    "        yield i\n",
    "\n",
    "gen = number_gen()\n",
    "print(\"제너레이터 합:\", sum(gen))\n",
    "print(\"제너레이터 메모리 사용량:\", sys.getsizeof(gen))  # 제너레이터 객체만 메모리 차지"
   ]
  },
  {
   "cell_type": "code",
   "execution_count": null,
   "id": "5bb3dc22",
   "metadata": {},
   "outputs": [],
   "source": [
    "import time\n",
    "import sys\n",
    "\n",
    "# 1. 짝수의 제곱을 생성하는 제너레이터\n",
    "def even_square_gen(n):\n",
    "    for i in range(n):\n",
    "        if i % 2 == 0:\n",
    "            yield i * i\n",
    "\n",
    "# 2. 실행 및 시간 측정\n",
    "start = time.time()\n",
    "result = sum(even_square_gen(1_000_000))\n",
    "end = time.time()\n",
    "\n",
    "print(\"짝수 제곱 총합:\", result)\n",
    "print(\"실행 시간:\", end - start)\n",
    "\n",
    "# 3. 메모리 사용량 측정\n",
    "gen_obj = even_square_gen(1_000_000)\n",
    "print(\"제너레이터 메모리 사용량:\", sys.getsizeof(gen_obj))  # 보통 수십~수백 바이트"
   ]
  },
  {
   "cell_type": "code",
   "execution_count": null,
   "id": "acee485c",
   "metadata": {},
   "outputs": [],
   "source": []
  }
 ],
 "metadata": {
  "kernelspec": {
   "display_name": "skala",
   "language": "python",
   "name": "python3"
  },
  "language_info": {
   "codemirror_mode": {
    "name": "ipython",
    "version": 3
   },
   "file_extension": ".py",
   "mimetype": "text/x-python",
   "name": "python",
   "nbconvert_exporter": "python",
   "pygments_lexer": "ipython3",
   "version": "3.11.13"
  }
 },
 "nbformat": 4,
 "nbformat_minor": 5
}
